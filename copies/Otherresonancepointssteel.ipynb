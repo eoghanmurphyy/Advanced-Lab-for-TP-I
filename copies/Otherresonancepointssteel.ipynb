{
 "cells": [
  {
   "cell_type": "markdown",
   "metadata": {},
   "source": [
    "## Resonant point found at ~ 180 Hz"
   ]
  },
  {
   "cell_type": "code",
   "execution_count": 1,
   "metadata": {},
   "outputs": [
    {
     "ename": "NameError",
     "evalue": "name 'RealData' is not defined",
     "output_type": "error",
     "traceback": [
      "\u001b[0;31m---------------------------------------------------------------------------\u001b[0m",
      "\u001b[0;31mNameError\u001b[0m                                 Traceback (most recent call last)",
      "Cell \u001b[0;32mIn[1], line 3\u001b[0m\n\u001b[1;32m      1\u001b[0m \u001b[38;5;66;03m# Creating another ODR model to model this resonance observed at a different frequency\u001b[39;00m\n\u001b[0;32m----> 3\u001b[0m mydata \u001b[38;5;241m=\u001b[39m \u001b[43mRealData\u001b[49m(df150degv2, ov150degv2, sx\u001b[38;5;241m=\u001b[39mDACError, sy\u001b[38;5;241m=\u001b[39m\u001b[38;5;241m1.2753244632410308\u001b[39m)\n\u001b[1;32m      5\u001b[0m myodr \u001b[38;5;241m=\u001b[39m ODR(mydata, Lorentzian_model, beta0\u001b[38;5;241m=\u001b[39m[\u001b[38;5;241m2.6\u001b[39m, \u001b[38;5;241m183.6884000442675\u001b[39m, \u001b[38;5;241m1.25\u001b[39m])\n\u001b[1;32m      7\u001b[0m myoutput \u001b[38;5;241m=\u001b[39m myodr\u001b[38;5;241m.\u001b[39mrun()\n",
      "\u001b[0;31mNameError\u001b[0m: name 'RealData' is not defined"
     ]
    }
   ],
   "source": [
    "# Creating another ODR model to model this resonance observed at a different frequency\n",
    "\n",
    "mydata = RealData(df150degv2, ov150degv2, sx=DACError, sy=1.2753244632410308)\n",
    "\n",
    "myodr = ODR(mydata, Lorentzian_model, beta0=[2.6, 183.6884000442675, 1.25])\n",
    "\n",
    "myoutput = myodr.run()\n",
    "\n",
    "myoutput.pprint()"
   ]
  },
  {
   "cell_type": "code",
   "execution_count": null,
   "metadata": {},
   "outputs": [],
   "source": [
    "Iron150degv2 = np.loadtxt('Data/Iron/150degIronDataHone2better')\n",
    "ov150degv2 = Iron150degv2[:,1]\n",
    "\n",
    "df150degv2 = []\n",
    "\n",
    "iv = Iron150degv2[:,0]\n",
    "print(iv)\n",
    "\n",
    "for i in iv:\n",
    "    a= LinearApproximation(myoutput.beta, i)\n",
    "    df150degv2.append(a)\n",
    "\n",
    "# Find Peak Frequency \n",
    "LinearApproximation(myoutput.beta, 2.850000000000003642e+00) # Input found from Raw Data"
   ]
  },
  {
   "cell_type": "code",
   "execution_count": null,
   "metadata": {},
   "outputs": [],
   "source": [
    "df_fit = np.linspace(min(df150degv2), max(df150degv2), 1000)\n",
    "ov_fit = Lorentzian(myoutput.beta, df_fit)"
   ]
  },
  {
   "cell_type": "code",
   "execution_count": null,
   "metadata": {},
   "outputs": [],
   "source": [
    "plt.title('Theoretical Model of the Resonance from Data taken using ODR')\n",
    "plt.xlabel('Driver Frequency (Hz)')\n",
    "plt.ylabel('Output Voltage (V)')\n",
    "\n",
    "plt.plot(df150degv2, ov150degv2, '.', label='423.15K', color = 'r')\n",
    "\n",
    "plt.plot(df_fit, ov_fit, color = 'purple', label='Theoretical Curve')\n",
    "\n",
    "plt.legend()\n",
    "plt.show()"
   ]
  },
  {
   "cell_type": "markdown",
   "metadata": {},
   "source": [
    "## Another Point of Resonance found at ~ 80 Hz"
   ]
  },
  {
   "cell_type": "code",
   "execution_count": null,
   "metadata": {},
   "outputs": [],
   "source": [
    "# Not found at 303.15K\n",
    "\n",
    "data60degH21 = np.loadtxt('Data/Iron/60degIronDataHone2-1')\n",
    "df60deg = data60degH21[:,0]\n",
    "iv60deg= data60degH21[:,1]\n",
    "ov60deg = data60degH21[:,2]\n",
    "\n",
    "data90degH21 = np.loadtxt('Data/Iron/90degIronDataHone2-1')\n",
    "df90deg = data90degH21[:,0]\n",
    "iv90deg= data90degH21[:,1]\n",
    "ov90deg = data90degH21[:,2]\n",
    "\n",
    "data120degH21 = np.loadtxt('Data/Iron/120degIronDataHone2-1')\n",
    "df120deg = data120degH21[:,0]\n",
    "iv120deg= data120degH21[:,1]\n",
    "ov120deg = data120degH21[:,2]\n",
    "\n",
    "data150degH21 = np.loadtxt('Data/Iron/150degIronDataHone3-1')\n",
    "iv150deg = data150degH21[:,0]\n",
    "ov150deg= data150degH21[:,1]"
   ]
  },
  {
   "cell_type": "code",
   "execution_count": null,
   "metadata": {},
   "outputs": [],
   "source": [
    "#  Creating a list the same size as the x vlaues as they all have the same errors\n",
    "\n",
    "dferror = 0.75 # consistent for all measurements\n",
    "\n",
    "df60degerr = [dferror] * len(df60deg)\n",
    "df90degerr = [dferror] * len(df90deg)\n",
    "df120degerr = [dferror] * len(df120deg)\n",
    "df150degerr = [dferror] * len(df150deg)"
   ]
  },
  {
   "cell_type": "code",
   "execution_count": null,
   "metadata": {},
   "outputs": [],
   "source": [
    "# plt.plot(df30deg, ov30deg, '.', label = '303.15K')\n",
    "# plt.plot(df60deg, ov60deg, '.', label = '333.15K')\n",
    "# plt.plot(df90deg, ov90deg, '.', label='363.15K')\n",
    "# plt.plot(df120deg, ov120deg, '.', label='393.15K')\n",
    "# plt.plot(df150deg, ov150deg, '.', label='422.15K')"
   ]
  },
  {
   "cell_type": "code",
   "execution_count": null,
   "metadata": {},
   "outputs": [],
   "source": [
    "# Creating a for loop to sweep through and gather the parameters and errors for all temperatures quickly\n",
    "\n",
    "# Putting all of my data into a list for the x and y axis\n",
    "IronData_x_axis = [df60deg, df90deg, df120deg, df150deg]\n",
    "IronData_y_axis = [ov60deg, ov90deg, ov120deg, ov150deg]\n",
    "IronData_errors = [df60degerr, df90degerr, df120degerr, df150degerr]\n",
    "EstimatesofFMHW = [2.25, 0.75, 0.5, 3.75, 0.6] # Estimated using the individual plots of the data above\n",
    "EstimatesofAmplitudes = [0.25, 0.55, 0.68, 3, 3] \n",
    "resonantfreqs = [2.715400000000000205e+02, 2.710199999999999818e+02, 2.693299999999999841e+02, 2.681100000000000136e+02, 2.674700000000000273e+02] # Gottem from Raw data \n",
    "\n",
    "w_fits = []\n",
    "y_fits = []\n",
    "w0 = []\n",
    "deltaw = []\n",
    "sw0 = []\n",
    "sdeltaw = []\n",
    "sdeltaww0 = []\n",
    "\n",
    "for i, j, k, q, p, m in zip(IronData_x_axis, IronData_y_axis, IronData_errors, EstimatesofFMHW, EstimatesofAmplitudes, resonantfreqs):\n",
    "    # Inputting all experimental data\n",
    "    w = np.array(i) # Driver Frequencies\n",
    "    y = np.array(j) # Output Voltages\n",
    "    sw = np.array(k) # Consistent Fluctuation on frequency measurement\n",
    "    sy = np.array(OVError) # Error on ADC in NI USB 6008\n",
    "\n",
    "    data = RealData(w ,y, sx=sw, sy=sy) # Creating the RealData object as specified on the Scipy.ODR webpage with x, y values and their uncertainties.\n",
    "    # Not including covariances here as the variables are independent.\n",
    "\n",
    "    # Must guess initial parameters for the parameters in the vector B; A (amplitude), w0 (resonant frequency) and deltaw (Full width half maximum of graph)\n",
    "    Initial_Estimate = [p, m, q]\n",
    "\n",
    "    # Instantiating the Blueprint ODR with my experimental data\n",
    "    myodr = ODR(data, Lorentzian_model, beta0=Initial_Estimate)\n",
    "\n",
    "    # Running the fit\n",
    "    output = myodr.run()\n",
    "\n",
    "    # Appending the values of w0 and deltaw for later calculations:\n",
    "    w0.append(output.beta[1])\n",
    "\n",
    "    deltaw.append(output.beta[2])\n",
    "\n",
    "    # Appending the errors of the parameters above\n",
    "    sw0.append(output.sd_beta[1])\n",
    "    sdeltaw.append(output.sd_beta[2])\n",
    "\n",
    "    #Appending the Covariance of deltaw and w0 for later calculations\n",
    "    sdeltaww0.append(output.cov_beta[1, 2])\n",
    "\n",
    "    # Printing a summary of the fit results:\n",
    "    #output.pprint()\n",
    "\n",
    "    # Extract the optimal parameters:\n",
    "    popt = output.beta # Gives optimized parameters A, w0 and deltaw\n",
    "    perr = output.sd_beta # Gives the Standard deviation of the parameters (errors)\n",
    "\n",
    "    w_fit = np.linspace(min(w), max(w), 1000)\n",
    "    y_fit = Lorentzian(popt, w_fit)\n",
    "\n",
    "    w_fits.append(w_fit)\n",
    "    y_fits.append(y_fit)"
   ]
  },
  {
   "cell_type": "code",
   "execution_count": null,
   "metadata": {},
   "outputs": [],
   "source": [
    "plt.plot(df60deg, ov60deg, '.', label = '333.15K', color = 'orange')\n",
    "\n",
    "#plt.plot(w_fits[1], y_fits[1], color = 'orange')\n",
    "\n",
    "plt.legend()\n",
    "plt.show()"
   ]
  },
  {
   "cell_type": "code",
   "execution_count": null,
   "metadata": {},
   "outputs": [],
   "source": [
    "plt.plot(df90deg, ov90deg, '.', label='363.15K', color = 'g')\n",
    "\n",
    "#plt.plot(w_fits[2], y_fits[2], color = 'g')\n",
    "\n",
    "plt.legend()\n",
    "plt.show()"
   ]
  },
  {
   "cell_type": "code",
   "execution_count": null,
   "metadata": {},
   "outputs": [],
   "source": [
    "plt.plot(df120deg, ov120deg, '.', label='393.15K', color = 'r')\n",
    "\n",
    "#plt.plot(w_fits[3], y_fits[3], color = 'r')\n",
    "\n",
    "plt.legend()\n",
    "plt.show()"
   ]
  },
  {
   "cell_type": "code",
   "execution_count": null,
   "metadata": {},
   "outputs": [],
   "source": [
    "ov150deg = data150degH21[:,1]\n",
    "\n",
    "df150deg = []\n",
    "\n",
    "iv = data150degH21[:,0]\n",
    "print(iv)\n",
    "\n",
    "for i in iv:\n",
    "    a= LinearApproximation(myoutput.beta, i)\n",
    "    df150deg.append(a)\n",
    "\n",
    "print(df150deg)"
   ]
  },
  {
   "cell_type": "code",
   "execution_count": null,
   "metadata": {},
   "outputs": [],
   "source": [
    "plt.plot(df150deg, ov150deg, '.', label='423.15K', color = 'cyan')\n",
    "\n",
    "#plt.plot(w_fits[4], y_fits[4], color = 'r')\n",
    "\n",
    "plt.legend()\n",
    "plt.show()"
   ]
  }
 ],
 "metadata": {
  "kernelspec": {
   "display_name": "Python 3",
   "language": "python",
   "name": "python3"
  },
  "language_info": {
   "codemirror_mode": {
    "name": "ipython",
    "version": 3
   },
   "file_extension": ".py",
   "mimetype": "text/x-python",
   "name": "python",
   "nbconvert_exporter": "python",
   "pygments_lexer": "ipython3",
   "version": "3.12.4"
  }
 },
 "nbformat": 4,
 "nbformat_minor": 2
}
